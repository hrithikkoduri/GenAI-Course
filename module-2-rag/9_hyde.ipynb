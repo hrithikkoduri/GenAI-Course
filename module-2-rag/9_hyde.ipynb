{
 "cells": [
  {
   "cell_type": "code",
   "execution_count": 17,
   "metadata": {},
   "outputs": [],
   "source": [
    "import os\n",
    "from dotenv import load_dotenv\n",
    "\n",
    "# Load all environment variables from .env file\n",
    "load_dotenv()\n",
    "\n",
    "## LLM\n",
    "openai_api_key = os.getenv('OPENAI_API_KEY')\n",
    "\n",
    "## Pinecone Vector Database\n",
    "pinecone_api_key = os.getenv('PINECONE_API_KEY')"
   ]
  },
  {
   "cell_type": "code",
   "execution_count": 2,
   "metadata": {},
   "outputs": [
    {
     "name": "stderr",
     "output_type": "stream",
     "text": [
      "/Users/hrithikkoduri/Desktop/Course/venv/lib/python3.13/site-packages/pinecone/data/index.py:1: TqdmWarning: IProgress not found. Please update jupyter and ipywidgets. See https://ipywidgets.readthedocs.io/en/stable/user_install.html\n",
      "  from tqdm.autonotebook import tqdm\n"
     ]
    }
   ],
   "source": [
    "from pinecone import Pinecone, ServerlessSpec\n",
    "\n",
    "pc = Pinecone(api_key=pinecone_api_key)"
   ]
  },
  {
   "cell_type": "code",
   "execution_count": 18,
   "metadata": {},
   "outputs": [],
   "source": [
    "import time\n",
    "\n",
    "index_name = \"rag-hyde-index\" # change if desired\n",
    "\n",
    "existing_indexes = [index_info[\"name\"] for index_info in pc.list_indexes()]\n",
    "\n",
    "if index_name not in existing_indexes:\n",
    "    pc.create_index(\n",
    "        name=index_name,\n",
    "        dimension=1536,\n",
    "        metric=\"cosine\",\n",
    "        spec=ServerlessSpec(cloud=\"aws\", region=\"us-east-1\"),\n",
    "    )\n",
    "    while not pc.describe_index(index_name).status[\"ready\"]:\n",
    "        time.sleep(1)\n",
    "\n",
    "index = pc.Index(index_name)"
   ]
  },
  {
   "cell_type": "code",
   "execution_count": 19,
   "metadata": {},
   "outputs": [],
   "source": [
    "# Load blog\n",
    "import bs4\n",
    "from langchain_community.document_loaders import PyPDFLoader, PyPDFDirectoryLoader\n",
    "from langchain.text_splitter import RecursiveCharacterTextSplitter\n",
    "from langchain_openai import OpenAIEmbeddings\n",
    "from langchain_community.vectorstores import Pinecone\n",
    "from pprint import pprint\n",
    "\n",
    "#### INDEXING ####\n",
    "\n",
    "# Load Document (Uploading one file at a time)\n",
    "pdf_file_path = \"./data/langchain_turing.pdf\"\n",
    "loader = PyPDFLoader(pdf_file_path)\n",
    "\n",
    "docs = loader.load()\n",
    "\n",
    "# Upload muiltiple PDF files from a directory\n",
    "# pdf_file_paths = <enter your path here>\n",
    "# loader = PyPDFDirectoryLoader(pdf_file_paths)\n",
    "\n",
    "# docs_dir = loader.load()\n",
    "\n",
    "# Split\n",
    "text_splitter = RecursiveCharacterTextSplitter.from_tiktoken_encoder(\n",
    "    chunk_size=2000, \n",
    "    chunk_overlap=500)\n",
    "\n",
    "# Make splits\n",
    "splits = text_splitter.split_documents(docs)\n",
    "\n",
    "# Index\n",
    "vectorstore = Pinecone.from_documents(\n",
    "    documents=splits, \n",
    "    embedding=OpenAIEmbeddings(model=\"text-embedding-3-small\"), \n",
    "    index_name=index_name\n",
    ")\n"
   ]
  },
  {
   "cell_type": "code",
   "execution_count": 20,
   "metadata": {},
   "outputs": [],
   "source": [
    "retriever = vectorstore.as_retriever(\n",
    "    search_type=\"similarity_score_threshold\",\n",
    "    search_kwargs={\"k\": 5, \"score_threshold\": 0.5},\n",
    ")"
   ]
  },
  {
   "cell_type": "markdown",
   "metadata": {},
   "source": [
    "# Hypothetical Document Embeddings (HyDE)"
   ]
  },
  {
   "cell_type": "markdown",
   "metadata": {},
   "source": [
    "![RAG HyDE](./images/rag_hyde.png)"
   ]
  },
  {
   "cell_type": "code",
   "execution_count": 21,
   "metadata": {},
   "outputs": [],
   "source": [
    "from langchain.prompts import ChatPromptTemplate\n",
    "from langchain_openai import ChatOpenAI\n",
    "\n",
    "def generate_docs_for_retrieval(question):\n",
    "    # HyDE document genration\n",
    "    template = \"\"\"Please write a scientific paper passage to answer the question\n",
    "    Question: {question}\n",
    "    Passage:\"\"\"\n",
    "    prompt_hyde = ChatPromptTemplate.from_template(template)\n",
    "\n",
    "    llm = ChatOpenAI(model = \"gpt-4o-mini\", temperature=1)\n",
    "\n",
    "    docs_for_retrieval = llm.invoke(prompt_hyde.format_prompt(question = question))\n",
    "\n",
    "    return docs_for_retrieval.content\n",
    "\n"
   ]
  },
  {
   "cell_type": "code",
   "execution_count": 22,
   "metadata": {},
   "outputs": [
    {
     "data": {
      "text/plain": [
       "\"**Title: Security Mechanisms in LangChain for Integrating External Services in LLM Applications**\\n\\n**Abstract:** The integration of external services such as vector databases and API providers is crucial for enhancing the functionality of Large Language Model (LLM) applications. However, this integration poses significant security challenges that must be addressed to ensure data integrity, confidentiality, and overall system robustness. In this paper, we explore the security measures implemented by LangChain to safeguard LLM applications when interfacing with external services.\\n\\n**Introduction:** As LLM applications increasingly rely on external service integration to operate efficiently and effectively, the necessity for robust security protocols becomes paramount. LangChain addresses potential vulnerabilities associated with connecting to vector databases and API providers through a multifaceted security approach that encompasses authentication, data encryption, access control, and efficient error handling.\\n\\n**Security Mechanisms:**\\n\\n1. **Authentication and Authorization:** LangChain employs OAuth 2.0 and API keys to secure access to external services. By requiring token-based authentication, LangChain ensures that only authorized applications and users can request data from or send data to vector databases and APIs. This authentication process is crucial for mitigating the risk of unauthorized access.\\n\\n2. **Data Encryption:** To protect sensitive data during transmission and storage, LangChain implements Transport Layer Security (TLS) protocols. All data exchanged between the LLM application and external services is encrypted, significantly reducing the risk of data interception and man-in-the-middle attacks. Additionally, LangChain encourages the use of encryption for sensitive information stored in vector databases.\\n\\n3. **Access Control Policies:** LangChain incorporates role-based access control (RBAC) mechanisms, enabling developers to define granular permissions for different components of the application. By limiting access based on user roles, LangChain minimizes the likelihood of malicious actors exploiting vulnerabilities in the system.\\n\\n4. **Audit Logging and Monitoring:** Continuous monitoring and logging of interactions with external services are integrated into the LangChain framework. This feature allows for real-time analysis of API calls and database queries, enabling the detection of any anomalous behaviors or security breaches. The comprehensive audit logs facilitate forensic investigations and help improve the overall security posture.\\n\\n5. **Error Handling and Rate Limiting:** LangChain employs robust error handling mechanisms to manage exceptions that may arise during interaction with external services. This includes implementing rate limiting to prevent abuse from excessive requests, which can lead to service denial or degradation. By managing both successes and errors systematically, LangChain enhances stability and security.\\n\\n**Conclusion:** The secure integration of external services in LLM applications is vital for protecting sensitive data and maintaining trust in automated systems. LangChain's comprehensive approach, which includes robust authentication, encryption, access control, monitoring, and error handling, ensures that these integrations are carried out securely, thus mitigating potential risks. Future work will focus on enhancing these mechanisms in response to evolving security threats, ensuring that LangChain remains at the forefront of secure LLM application development.\\n\\n**Keywords:** LangChain, security, LLM applications, external services, vector databases, API integration, authentication, encryption, access control, monitoring.\""
      ]
     },
     "execution_count": 22,
     "metadata": {},
     "output_type": "execute_result"
    }
   ],
   "source": [
    "question = \"How does LangChain ensure security when integrating external services like vector databases and API providers in LLM applications?\"\n",
    "docs_for_retrieval = generate_docs_for_retrieval(question)\n",
    "docs_for_retrieval"
   ]
  },
  {
   "cell_type": "code",
   "execution_count": 23,
   "metadata": {},
   "outputs": [
    {
     "data": {
      "text/markdown": [
       "**Title: Security Mechanisms in LangChain for Integrating External Services in LLM Applications**\n",
       "\n",
       "**Abstract:** The integration of external services such as vector databases and API providers is crucial for enhancing the functionality of Large Language Model (LLM) applications. However, this integration poses significant security challenges that must be addressed to ensure data integrity, confidentiality, and overall system robustness. In this paper, we explore the security measures implemented by LangChain to safeguard LLM applications when interfacing with external services.\n",
       "\n",
       "**Introduction:** As LLM applications increasingly rely on external service integration to operate efficiently and effectively, the necessity for robust security protocols becomes paramount. LangChain addresses potential vulnerabilities associated with connecting to vector databases and API providers through a multifaceted security approach that encompasses authentication, data encryption, access control, and efficient error handling.\n",
       "\n",
       "**Security Mechanisms:**\n",
       "\n",
       "1. **Authentication and Authorization:** LangChain employs OAuth 2.0 and API keys to secure access to external services. By requiring token-based authentication, LangChain ensures that only authorized applications and users can request data from or send data to vector databases and APIs. This authentication process is crucial for mitigating the risk of unauthorized access.\n",
       "\n",
       "2. **Data Encryption:** To protect sensitive data during transmission and storage, LangChain implements Transport Layer Security (TLS) protocols. All data exchanged between the LLM application and external services is encrypted, significantly reducing the risk of data interception and man-in-the-middle attacks. Additionally, LangChain encourages the use of encryption for sensitive information stored in vector databases.\n",
       "\n",
       "3. **Access Control Policies:** LangChain incorporates role-based access control (RBAC) mechanisms, enabling developers to define granular permissions for different components of the application. By limiting access based on user roles, LangChain minimizes the likelihood of malicious actors exploiting vulnerabilities in the system.\n",
       "\n",
       "4. **Audit Logging and Monitoring:** Continuous monitoring and logging of interactions with external services are integrated into the LangChain framework. This feature allows for real-time analysis of API calls and database queries, enabling the detection of any anomalous behaviors or security breaches. The comprehensive audit logs facilitate forensic investigations and help improve the overall security posture.\n",
       "\n",
       "5. **Error Handling and Rate Limiting:** LangChain employs robust error handling mechanisms to manage exceptions that may arise during interaction with external services. This includes implementing rate limiting to prevent abuse from excessive requests, which can lead to service denial or degradation. By managing both successes and errors systematically, LangChain enhances stability and security.\n",
       "\n",
       "**Conclusion:** The secure integration of external services in LLM applications is vital for protecting sensitive data and maintaining trust in automated systems. LangChain's comprehensive approach, which includes robust authentication, encryption, access control, monitoring, and error handling, ensures that these integrations are carried out securely, thus mitigating potential risks. Future work will focus on enhancing these mechanisms in response to evolving security threats, ensuring that LangChain remains at the forefront of secure LLM application development.\n",
       "\n",
       "**Keywords:** LangChain, security, LLM applications, external services, vector databases, API integration, authentication, encryption, access control, monitoring."
      ],
      "text/plain": [
       "<IPython.core.display.Markdown object>"
      ]
     },
     "execution_count": 23,
     "metadata": {},
     "output_type": "execute_result"
    }
   ],
   "source": [
    "from IPython.display import Markdown\n",
    "Markdown(docs_for_retrieval)"
   ]
  },
  {
   "cell_type": "code",
   "execution_count": 24,
   "metadata": {},
   "outputs": [
    {
     "data": {
      "text/plain": [
       "[Document(metadata={'author': '', 'creationdate': '2024-11-06T10:08:55+00:00', 'creator': 'LaTeX with hyperref', 'keywords': '', 'moddate': '2024-11-06T10:08:55+00:00', 'page': 12.0, 'page_label': '13', 'producer': 'pdfTeX-1.40.26', 'ptex.fullbanner': 'This is pdfTeX, Version 3.141592653-2.6-1.40.26 (TeX Live 2024) kpathsea version 6.4.0', 'source': './data/langchain_turing.pdf', 'subject': '', 'title': '', 'total_pages': 14.0, 'trapped': '/False'}, page_content='LangChain 13\\nLangChain’s security model addresses many of these concerns, yet challenges\\npersist, particularly in sectors with rigorous compliance standards, such as fi-\\nnance and healthcare. Key areas for ongoing improvement include:\\n– DynamicPermissionAdjustment :CurrentpermissionsettingsinLangChain\\nare defined at deployment, but in dynamic applications, permissions may\\nneed to adapt based on user interactions. Implementing adaptive permis-\\nsions responsive to application state or user roles could enhance security.\\n– Advanced Encryption Standards: For applications processing highly\\nsensitive data, adopting advanced encryption practices—such as end-to-end\\nor field-level encryption—could bolster data security within even trusted\\nenvironments.\\n– Proactive Security Analytics: Integrating predictive analytics to pre-\\nemptively identify risks could further secure applications. Machine learning\\nmodels analyzing application logs could flag anomalous patterns indicative\\nof potential breaches or misuse.\\nIn summary, LangChain’s security framework includes robust features such\\nas granular permissions, sandboxing, and real-time monitoring. While these mea-\\nsures provide a solid foundation, the ongoing challenge of securing LLM-driven\\napplications—particularly those relying on external providers—demands contin-\\nued advancements in security practices.\\n6 Conclusion\\nLangChain significantly advances the development of applications powered by\\nlarge language models (LLMs). Its modular framework—including components\\nlike LangGraph for stateful process modeling, LangServe for scalable API de-\\nployment, and LangSmith for monitoring and evaluation—enables developers to\\nbuild scalable, context-aware applications tailored to specific needs across di-\\nverse domains, including NLP, cybersecurity, healthcare, finance, and customer\\nservice.\\nWhile its versatility extends beyond NLP, allowing for applications in fields\\nlike cybersecurity (e.g., threat detection and automated incident response), the\\nframework’s emphasis on flexibility introduces complexities that may present a\\nlearning curve for developers new to LangChain. Additionally, reliance on exter-\\nnal integrations raises important security considerations, such as data exposure\\nand dependency vulnerabilities, which are critical in sensitive areas where data\\nintegrity and privacy are paramount.\\nIn summary, LangChain’s transformative potential lies in bridging the gap\\nbetween the power of large language models and practical application develop-\\nment across multiple fields. By balancing its robust capabilities with enhance-\\nments in usability and security, LangChain can continue to serve as a valuable\\ntool for developers seeking to leverage LLMs in building innovative and secure\\napplications. As industries increasingly adopt AI technologies, frameworks like\\nLangChain are poised to play a pivotal role in shaping the next generation of\\nintelligent, scalable, and secure solutions across various sectors.'),\n",
       " Document(metadata={'author': '', 'creationdate': '2024-11-06T10:08:55+00:00', 'creator': 'LaTeX with hyperref', 'keywords': '', 'moddate': '2024-11-06T10:08:55+00:00', 'page': 11.0, 'page_label': '12', 'producer': 'pdfTeX-1.40.26', 'ptex.fullbanner': 'This is pdfTeX, Version 3.141592653-2.6-1.40.26 (TeX Live 2024) kpathsea version 6.4.0', 'source': './data/langchain_turing.pdf', 'subject': '', 'title': '', 'total_pages': 14.0, 'trapped': '/False'}, page_content='12 Vasilios Mavroudis\\nof the API. LangChain workflows, tools, and chains can be directly exposed\\nvia LangServe endpoints, providing flexible API interactions and enhancing the\\nfunctionality of LLM applications [5].\\n5 Limitations and Criticisms\\nLangChain provides a versatile framework for the development of applications\\npowered by large language models (LLMs). However, several limitations warrant\\nattention, especially in the domains of complexity and security.\\n5.1 Complexity\\nLangChain’s modular architecture, while designed to simplify LLM-based ap-\\nplication development, can paradoxically increase complexity. Effective use of\\nLangChain often requires a nuanced understanding of its distinct components,\\nsuch as LangGraph and LangSmith, as well as familiarity with its API ecosys-\\ntem. Consequently, developers may face a steep learning curve, particularly those\\naiming for rapid prototyping or deployment. The need for comprehensive knowl-\\nedge of each module may present a barrier to new users, complicating onboarding\\nand initial implementation phases.\\n5.2 Security Concerns\\nGiven LangChain’s modular design and extensive reliance on external integra-\\ntions, security presents a notable challenge. Although LangChain incorporates a\\nrange of security measures, including fine-grained permission control and sand-\\nboxing, the complexity of securing LLM-based applications remains high, espe-\\ncially for applications managing sensitive data. Below, we outline several critical\\nsecurity risks associated with LangChain and explore strategies for risk mitiga-\\ntion.\\nRisksAssociatedwithExternalProviders Toenhancefunctionality,LangChain\\nintegrateswithnumerousexternalservices,suchasvectordatabases,APIproviders,\\nand cloud storage platforms. However, these integrations expose applications to\\nsecurity vulnerabilities:\\n– Data Exposure: Accessing external resources can inadvertently expose sen-\\nsitive data to third-party providers, a risk particularly relevant for applica-\\ntions handling personal or confidential information. Without stringent data\\nencryption and access control mechanisms, the potential for data leaks or\\nunauthorized access increases.\\n– Third-Party Dependency: Reliance on third-party services introduces de-\\npendencies on their security protocols. Any compromise within a provider’s\\ninfrastructurecouldaffectLangChainapplications,resultingindatabreaches\\nor service interruptions. This underscores the importance of thoroughly vet-\\nting providers and monitoring them for potential security issues.'),\n",
       " Document(metadata={'author': '', 'creationdate': '2024-11-06T10:08:55+00:00', 'creator': 'LaTeX with hyperref', 'keywords': '', 'moddate': '2024-11-06T10:08:55+00:00', 'page': 4.0, 'page_label': '5', 'producer': 'pdfTeX-1.40.26', 'ptex.fullbanner': 'This is pdfTeX, Version 3.141592653-2.6-1.40.26 (TeX Live 2024) kpathsea version 6.4.0', 'source': './data/langchain_turing.pdf', 'subject': '', 'title': '', 'total_pages': 14.0, 'trapped': '/False'}, page_content='LangChain 5\\nand relevance. RAG allows models to access up-to-date information, extending\\ntheir capabilities beyond their training data. LangChain’s RAG implementation\\nuses:\\n– Document Loaders and Text Splitters: Preprocess documents for in-\\ndexing and efficient retrieval [6].\\n– Embedding Models and Vector Stores: Enable similarity-based re-\\ntrieval by embedding documents into vector spaces. LangChain integrates\\nwithvectorstoragesolutionslikeChromaandMilvusforoptimizedsearches[3].\\n– Retrievers and RAG Chains: Retrieve and merge external data with\\nmodel responses, enhancing applications such as question answering systems\\nand recommendation engines [4].\\n1.3 Security and Permissions Management\\nSecurity is a critical focus in LangChain’s design, particularly given the potential\\naccess to external data sources. LangChain addresses these security challenges\\nthrough best practices and internal controls [3]:\\n– Granular Permissions: Enforces the principle of least privilege by allowing\\ndevelopers to specify limited permissions, minimizing the risk of unautho-\\nrized actions.\\n– Sandboxing and Defense in Depth: Utilizes sandboxed environments\\nand layered security to protect sensitive data and limit exposure to vulner-\\nabilities [3].\\n– Auditability and Monitoring: LangSmith (see Section 2) provides de-\\ntailed logging and monitoring capabilities, enabling developers to track ap-\\nplication usage and detect anomalies in real time.\\n1.4 Integrations and Extensibility\\nLangChain’s architecture supports a wide range of third-party integrations, al-\\nlowing for custom component development and additional functionality, such as\\nmulti-modal data processing and AI tool integration [3]:\\n– IntegrationPackages:LangChainprovidesdedicatedpackages(e.g.,langchain-\\nopenai, langchain-aws) that simplify connections to external platforms, tai-\\nloring applications to specific needs.\\n– Support for Multi-modal Data: Supports image, text, and audio inputs,\\nallowing for applications like chatbots capable of interpreting diverse data\\ntypes.\\n– CustomComponentDevelopment :Developerscanbuildcustomplugins\\nor extend LangChain components, ensuring flexibility and adaptability for\\na wide range of application requirements.\\nLangChain’s modular and flexible architecture equips developers with a com-\\nprehensive toolkit for building, deploying, and monitoring LLM applications. Its\\nadvanced components—LangGraph, LangServe, and LangSmith—enable sophis-\\nticated functionality for scalable, interactive, and robust applications, meeting\\nthe demands of modern AI use cases.'),\n",
       " Document(metadata={'author': '', 'creationdate': '2024-11-06T10:08:55+00:00', 'creator': 'LaTeX with hyperref', 'keywords': '', 'moddate': '2024-11-06T10:08:55+00:00', 'page': 1.0, 'page_label': '2', 'producer': 'pdfTeX-1.40.26', 'ptex.fullbanner': 'This is pdfTeX, Version 3.141592653-2.6-1.40.26 (TeX Live 2024) kpathsea version 6.4.0', 'source': './data/langchain_turing.pdf', 'subject': '', 'title': '', 'total_pages': 14.0, 'trapped': '/False'}, page_content='2 Vasilios Mavroudis\\nstateful, and contextually aware applications with ease. Its suite of compo-\\nnents—including LangGraph for stateful process modeling, LangServe for scal-\\nableAPIdeployment,andLangSmithformonitoringandevaluation—collectively\\nform a comprehensive toolkit for leveraging LLMs effectively [3].\\nLangChain facilitates the integration of LLMs into a wide array of applica-\\ntions, empowering developers to create solutions that are not only functional\\nbut also efficient and secure. Its support for features like chat models, retrieval-\\naugmented generation (RAG) [10], and secure API interactions allows for the\\nrapid deployment of sophisticated language model solutions across diverse do-\\nmains such as healthcare, customer service, finance, and mental health.\\nDespite its strengths, LangChain’s emphasis on flexibility through modular-\\nity introduces certain complexities. Developers may encounter a steep learning\\ncurve when navigating its extensive components and integrations. Moreover, the\\nreliance on external integrations and third-party providers necessitates a careful\\nexamination of security practices to mitigate risks associated with data exposure\\nand dependency vulnerabilities.\\nThis paper provides a comprehensive analysis of LangChain, delving into its\\narchitecture, core components, and the interplay between its modules. We ex-\\nplore how LangChain facilitates the development of LLM applications by exam-\\nining each component’s functionality and their synergistic contributions to the\\nframework. Furthermore, we critically evaluate the limitations and criticisms of\\nLangChain, focusing on the complexities introduced by its modular design and\\nthe security implications of its extensive integrations.\\nBy offering valuable insights into both the capabilities and challenges of\\nLangChain, this paper aims to serve as a key resource for developers and re-\\nsearchers interested in LLM application development. We seek to illuminate\\nthe transformative potential of LangChain in advancing NLP applications while\\nproviding a nuanced understanding of its practical boundaries. Ultimately, this\\nanalysis guides users in effectively harnessing LangChain to build innovative and\\nsecure LLM-powered applications tailored to their specific needs.\\nThe remainder of this paper is organized as follows: Section 1 delves into\\nthe core architecture of LangChain, detailing its primary components and their\\nfunctionalities. Section 2 examines LangSmith and its role in monitoring and\\nevaluation of LLM applications. In Section 3, we explore LangGraph’s capabili-\\nties in stateful process modeling. Section 4 discusses LangServe for scalable API\\ndeployment of LangChain applications. Finally, section 5 addresses the limita-\\ntions and criticisms of LangChain, particularly focusing on the complexities and\\nsecurity concerns associated with its modular design and external integrations.\\n1 Architecture\\nLangChain is built with a modular architecture, designed to simplify the life-\\ncycle of applications powered by large language models (LLMs), from initial\\ndevelopment through to deployment and monitoring [3]. This modularity al-\\nlows developers to configure, extend, and deploy applications tailored to specific'),\n",
       " Document(metadata={'author': '', 'creationdate': '2024-11-06T10:08:55+00:00', 'creator': 'LaTeX with hyperref', 'keywords': '', 'moddate': '2024-11-06T10:08:55+00:00', 'page': 0.0, 'page_label': '1', 'producer': 'pdfTeX-1.40.26', 'ptex.fullbanner': 'This is pdfTeX, Version 3.141592653-2.6-1.40.26 (TeX Live 2024) kpathsea version 6.4.0', 'source': './data/langchain_turing.pdf', 'subject': '', 'title': '', 'total_pages': 14.0, 'trapped': '/False'}, page_content='LangChain\\nVasilios Mavroudis\\nAlan Turing Institute\\nvmavroudis@turing.ac.uk\\nAbstract. LangChain is a rapidly emerging framework that offers a ver-\\nsatile and modular approach to developing applications powered by large\\nlanguage models (LLMs). By leveraging LangChain, developers can sim-\\nplify complex stages of the application lifecycle—such as development,\\nproductionization, and deployment—making it easier to build scalable,\\nstateful, and contextually aware applications. It provides tools for han-\\ndling chat models, integrating retrieval-augmented generation (RAG),\\nand offering secure API interactions. With LangChain, rapid deployment\\nof sophisticated LLM solutions across diverse domains becomes feasible.\\nHowever, despite its strengths, LangChain’s emphasis on modularity and\\nintegration introduces complexities and potential security concerns that\\nwarrant critical examination. This paper provides an in-depth analysis\\nof LangChain’s architecture and core components, including LangGraph,\\nLangServe,andLangSmith.Weexplorehowtheframeworkfacilitatesthe\\ndevelopment of LLM applications, discuss its applications across multi-\\nple domains, and critically evaluate its limitations in terms of usability,\\nsecurity, and scalability. By offering valuable insights into both the capa-\\nbilities and challenges of LangChain, this paper serves as a key resource\\nfor developers and researchers interested in leveraging LangChain for\\ninnovative and secure LLM-powered applications.\\nKeywords: LangChain · Large Language Models· LLM Applications·\\nModular Framework\\nThe emergence of large language models (LLMs) such as OpenAI’s o1 [13],\\nGPT-4o [12], Google’s Gemini [14], and Meta’s LLaMA [16] has revolutionized\\nthe field of natural language processing (NLP). These advanced models have un-\\nlocked unprecedented capabilities in understanding and generating human-like\\ntext, enabling applications that range from intelligent conversational agents to\\nsophisticated data analysis tools. However, harnessing the full potential of LLMs\\nin real-world applications presents significant challenges. Developers must nav-\\nigate complexities related to model integration, state management, scalability,\\ncontextual awareness, and security.\\nLangChain has rapidly gained prominence as a powerful framework designed\\nto address these challenges in developing LLM-powered applications [2]. By\\nproviding a modular and flexible architecture, LangChain simplifies the com-\\nplexities inherent in working with LLMs, enabling developers to build scalable,')]"
      ]
     },
     "execution_count": 24,
     "metadata": {},
     "output_type": "execute_result"
    }
   ],
   "source": [
    "retrieval_chain = generate_docs_for_retrieval | retriever \n",
    "retireved_docs = retrieval_chain.invoke(question)\n",
    "retireved_docs"
   ]
  },
  {
   "cell_type": "code",
   "execution_count": 25,
   "metadata": {},
   "outputs": [],
   "source": [
    "def generate_response(question):\n",
    "    \n",
    "    retireved_docs = retrieval_chain.invoke(question)\n",
    "    \n",
    "    # RAG\n",
    "    template = \"\"\"Answer the following question based on this context:\n",
    "\n",
    "    {context}\n",
    "\n",
    "    Question: {question}\n",
    "    \"\"\"\n",
    "\n",
    "    prompt = ChatPromptTemplate.from_template(template)\n",
    "\n",
    "    llm = ChatOpenAI(model = \"gpt-4o-mini\", temperature=1)\n",
    "\n",
    "    response = llm.invoke(prompt.format_prompt(context = retireved_docs, question = question))\n",
    "\n",
    "    return response.content\n"
   ]
  },
  {
   "cell_type": "code",
   "execution_count": 26,
   "metadata": {},
   "outputs": [],
   "source": [
    "hyde_response = generate_response(question)\n"
   ]
  },
  {
   "cell_type": "code",
   "execution_count": 27,
   "metadata": {},
   "outputs": [
    {
     "data": {
      "text/markdown": [
       "LangChain addresses security concerns when integrating external services, such as vector databases and API providers, through several key measures:\n",
       "\n",
       "1. **Granular Permissions**: LangChain enforces the principle of least privilege, which allows developers to specify limited permissions. This minimizes the risk of unauthorized actions and ensures that applications only have access to necessary resources.\n",
       "\n",
       "2. **Sandboxing**: The framework utilizes sandboxed environments to protect sensitive data. By isolating application processes, sandboxing reduces the exposure of vulnerabilities that may arise from external integrations.\n",
       "\n",
       "3. **Defense in Depth**: LangChain employs layered security measures to create multiple barriers against threats. This approach enhances the overall security posture of applications by making it more difficult for potential breaches to succeed.\n",
       "\n",
       "4. **Auditability and Monitoring**: LangChain includes tools like LangSmith, which provide detailed logging and monitoring capabilities. This allows developers to track application usage, detect anomalies in real-time, and respond proactively to any potential security incidents.\n",
       "\n",
       "5. **Management of External Risks**: Recognizing the risks associated with reliance on third-party services, LangChain encourages thorough vetting of external providers and continuous monitoring of their security practices. This is essential to mitigate risks such as data exposure and third-party dependency vulnerabilities.\n",
       "\n",
       "By implementing these strategies, LangChain aims to secure LLM applications that rely on external services, thus addressing critical security concerns while enhancing functionality."
      ],
      "text/plain": [
       "<IPython.core.display.Markdown object>"
      ]
     },
     "execution_count": 27,
     "metadata": {},
     "output_type": "execute_result"
    }
   ],
   "source": [
    "from IPython.display import Markdown\n",
    "Markdown(hyde_response)"
   ]
  },
  {
   "cell_type": "code",
   "execution_count": null,
   "metadata": {},
   "outputs": [],
   "source": []
  }
 ],
 "metadata": {
  "kernelspec": {
   "display_name": "venv",
   "language": "python",
   "name": "python3"
  },
  "language_info": {
   "codemirror_mode": {
    "name": "ipython",
    "version": 3
   },
   "file_extension": ".py",
   "mimetype": "text/x-python",
   "name": "python",
   "nbconvert_exporter": "python",
   "pygments_lexer": "ipython3",
   "version": "3.13.1"
  }
 },
 "nbformat": 4,
 "nbformat_minor": 2
}
