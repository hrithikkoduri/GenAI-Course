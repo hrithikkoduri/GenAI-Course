{
 "cells": [
  {
   "cell_type": "markdown",
   "metadata": {},
   "source": [
    "## Install  Langchain Ollama\n",
    "\n",
    "```bash\n",
    "pip install langchain-ollama\n",
    "```\n"
   ]
  },
  {
   "cell_type": "markdown",
   "metadata": {},
   "source": [
    "## Downloading Ollama models\n",
    "\n",
    "Pull the model from Ollama\n",
    "\n",
    "```bash\n",
    "ollama pull llama3.1:8b\n",
    "```\n",
    "\n",
    "List all the models available\n",
    "\n",
    "```bash\n",
    "ollama list\n",
    "```\n",
    "\n",
    "Remove a model\n",
    "\n",
    "```bash\n",
    "ollama remove llama3.1:8b\n",
    "```\n",
    "\n",
    "REmove all the models\n",
    "\n",
    "```bash\n",
    "ollama prune\n",
    "```\n",
    "\n",
    "\n",
    "\n"
   ]
  },
  {
   "cell_type": "code",
   "execution_count": 26,
   "metadata": {},
   "outputs": [
    {
     "data": {
      "text/plain": [
       "AIMessage(content=\"I'd be happy to help you understand what LangChain is, but I have to admit, I'm a bit curious - what do you know about LangChain so far? Go ahead and share what you do know, and we can work together to learn more about it!\", additional_kwargs={}, response_metadata={'model': 'llama3.2:1b', 'created_at': '2025-03-03T02:39:53.011635Z', 'done': True, 'done_reason': 'stop', 'total_duration': 2874307666, 'load_duration': 577551458, 'prompt_eval_count': 41, 'prompt_eval_duration': 1280000000, 'eval_count': 56, 'eval_duration': 1015000000, 'message': Message(role='assistant', content='', images=None, tool_calls=None)}, id='run-02c99194-0327-47a0-9183-596a4a2adbde-0', usage_metadata={'input_tokens': 41, 'output_tokens': 56, 'total_tokens': 97})"
      ]
     },
     "execution_count": 26,
     "metadata": {},
     "output_type": "execute_result"
    }
   ],
   "source": [
    "from langchain_core.prompts import ChatPromptTemplate\n",
    "from langchain_ollama import ChatOllama\n",
    "\n",
    "template = \"\"\"Question: {question}\n",
    "\n",
    "Answer: Let's think step by step.\"\"\"\n",
    "\n",
    "prompt = ChatPromptTemplate.from_template(template)\n",
    "\n",
    "model = ChatOllama(model=\"llama3.2:1b\")\n",
    "\n",
    "chain = prompt | model\n",
    "\n",
    "chain.invoke({\"question\": \"What is LangChain?\"})"
   ]
  },
  {
   "cell_type": "markdown",
   "metadata": {},
   "source": [
    "# Structured Output"
   ]
  },
  {
   "cell_type": "code",
   "execution_count": 27,
   "metadata": {},
   "outputs": [],
   "source": [
    "from dotenv import load_dotenv\n",
    "\n",
    "load_dotenv()\n",
    "import os\n",
    "\n",
    "OPENAI_API_KEY = os.getenv(\"OPENAI_API_KEY\")"
   ]
  },
  {
   "cell_type": "code",
   "execution_count": 28,
   "metadata": {},
   "outputs": [
    {
     "name": "stdout",
     "output_type": "stream",
     "text": [
      "content=\"Let's break down the expression step by step:\\n\\n1. Multiply 5 by 5:\\n   \\\\[\\n   5 \\\\times 5 = 25\\n   \\\\]\\n\\n2. Divide the result by 0.3:\\n   \\\\[\\n   \\\\frac{25}{0.3} = 83.3333\\\\ldots\\n   \\\\]\\n\\n3. Raise the result to the power of 2:\\n   \\\\[\\n   (83.3333\\\\ldots)^2 \\\\approx 6944.4444\\\\ldots\\n   \\\\]\\n\\n4. Round the result to two decimal places:\\n   \\\\[\\n   6944.44\\n   \\\\]\\n\\nTherefore, the final result is \\\\( 6944.44 \\\\).\" additional_kwargs={'refusal': None} response_metadata={'token_usage': {'completion_tokens': 151, 'prompt_tokens': 39, 'total_tokens': 190, 'completion_tokens_details': {'accepted_prediction_tokens': 0, 'audio_tokens': 0, 'reasoning_tokens': 0, 'rejected_prediction_tokens': 0}, 'prompt_tokens_details': {'audio_tokens': 0, 'cached_tokens': 0}}, 'model_name': 'gpt-4o-2024-08-06', 'system_fingerprint': 'fp_eb9dce56a8', 'finish_reason': 'stop', 'logprobs': None} id='run-49c540ea-2e27-4b83-b11d-d3b8dfa147c1-0' usage_metadata={'input_tokens': 39, 'output_tokens': 151, 'total_tokens': 190, 'input_token_details': {'audio': 0, 'cache_read': 0}, 'output_token_details': {'audio': 0, 'reasoning': 0}}\n"
     ]
    }
   ],
   "source": [
    "from langchain_openai import ChatOpenAI\n",
    "\n",
    "\n",
    "model = ChatOpenAI(model=\"gpt-4o\")\n",
    "\n",
    "\n",
    "response = model.invoke(\"What is 5 multiplied by 5 diveded by 0.3 and the result raised by 2 then is rounded to 2 decimal places?\")\n",
    "\n",
    "print(response)\n"
   ]
  },
  {
   "cell_type": "code",
   "execution_count": 29,
   "metadata": {},
   "outputs": [
    {
     "data": {
      "text/markdown": [
       "Let's break down the expression step by step:\n",
       "\n",
       "1. Multiply 5 by 5:\n",
       "   \\[\n",
       "   5 \\times 5 = 25\n",
       "   \\]\n",
       "\n",
       "2. Divide the result by 0.3:\n",
       "   \\[\n",
       "   \\frac{25}{0.3} = 83.3333\\ldots\n",
       "   \\]\n",
       "\n",
       "3. Raise the result to the power of 2:\n",
       "   \\[\n",
       "   (83.3333\\ldots)^2 \\approx 6944.4444\\ldots\n",
       "   \\]\n",
       "\n",
       "4. Round the result to two decimal places:\n",
       "   \\[\n",
       "   6944.44\n",
       "   \\]\n",
       "\n",
       "Therefore, the final result is \\( 6944.44 \\)."
      ],
      "text/plain": [
       "<IPython.core.display.Markdown object>"
      ]
     },
     "execution_count": 29,
     "metadata": {},
     "output_type": "execute_result"
    }
   ],
   "source": [
    "from IPython.display import Markdown\n",
    "\n",
    "Markdown(response.content)"
   ]
  },
  {
   "cell_type": "code",
   "execution_count": 30,
   "metadata": {},
   "outputs": [
    {
     "data": {
      "text/markdown": [
       "Let's break down the expression step by step:\n",
       "\n",
       "1. Multiply 5 by 5:\n",
       "   \\[\n",
       "   5 \\times 5 = 25\n",
       "   \\]\n",
       "\n",
       "2. Divide the result by 0.3:\n",
       "   \\[\n",
       "   \\frac{25}{0.3} = 83.3333\\ldots\n",
       "   \\]\n",
       "\n",
       "3. Raise the result to the power of 2:\n",
       "   \\[\n",
       "   (83.3333\\ldots)^2 \\approx 6944.4444\\ldots\n",
       "   \\]\n",
       "\n",
       "4. Round the result to two decimal places:\n",
       "   \\[\n",
       "   6944.44\n",
       "   \\]\n",
       "\n",
       "Therefore, the final result is \\( 6944.44 \\)."
      ],
      "text/plain": [
       "<IPython.core.display.Markdown object>"
      ]
     },
     "execution_count": 30,
     "metadata": {},
     "output_type": "execute_result"
    }
   ],
   "source": [
    "from IPython.display import Markdown\n",
    "\n",
    "Markdown(response.content)"
   ]
  },
  {
   "cell_type": "markdown",
   "metadata": {},
   "source": [
    "Structured Output Example 1:"
   ]
  },
  {
   "cell_type": "code",
   "execution_count": 42,
   "metadata": {},
   "outputs": [],
   "source": [
    "from pydantic import BaseModel, Field\n",
    "from typing import List\n",
    "\n",
    "class CalculationAnswer_1(BaseModel):\n",
    "    calculation: List[str] = Field(description=\"The calculation steps\")\n",
    "    answer: float = Field(description=\"The final answer to the calculation\")"
   ]
  },
  {
   "cell_type": "code",
   "execution_count": 52,
   "metadata": {},
   "outputs": [],
   "source": [
    "\n",
    "model = ChatOpenAI(model=\"gpt-4o\")\n",
    "\n",
    "prompt = ChatPromptTemplate.from_template(\"What is 5 multiplied by 5 diveded by 0.3 and the result raised by 2 then is rounded to 2 decimal places?\")\n",
    "\n",
    "chain = prompt | model.with_structured_output(CalculationAnswer_1)\n",
    "\n",
    "response = chain.invoke({\"question\": \"What is 5 multiplied by 5 diveded by 0.3 and the result raised by 2 then is rounded to 2 decimal places?\"})\n",
    "\n"
   ]
  },
  {
   "cell_type": "code",
   "execution_count": 58,
   "metadata": {},
   "outputs": [
    {
     "data": {
      "text/plain": [
       "CalculationAnswer_1(calculation=['1. Start with multiplication:', '   5 multiplied by 5 = 25', '2. Next, perform the division:', '   25 divided by 0.3 = 83.333...', '3. Raise the result to the power of 2:', '   (83.333...)^2 = 6944.444...', '4. Round the final result to 2 decimal places:'], answer=6944.44)"
      ]
     },
     "execution_count": 58,
     "metadata": {},
     "output_type": "execute_result"
    }
   ],
   "source": [
    "response"
   ]
  },
  {
   "cell_type": "code",
   "execution_count": 59,
   "metadata": {},
   "outputs": [
    {
     "data": {
      "text/plain": [
       "['1. Start with multiplication:',\n",
       " '   5 multiplied by 5 = 25',\n",
       " '2. Next, perform the division:',\n",
       " '   25 divided by 0.3 = 83.333...',\n",
       " '3. Raise the result to the power of 2:',\n",
       " '   (83.333...)^2 = 6944.444...',\n",
       " '4. Round the final result to 2 decimal places:']"
      ]
     },
     "execution_count": 59,
     "metadata": {},
     "output_type": "execute_result"
    }
   ],
   "source": [
    "response.calculation"
   ]
  },
  {
   "cell_type": "code",
   "execution_count": 61,
   "metadata": {},
   "outputs": [
    {
     "data": {
      "text/plain": [
       "6944.44"
      ]
     },
     "execution_count": 61,
     "metadata": {},
     "output_type": "execute_result"
    }
   ],
   "source": [
    "response.answer"
   ]
  },
  {
   "cell_type": "markdown",
   "metadata": {},
   "source": [
    "Structured Output Example 2:"
   ]
  },
  {
   "cell_type": "code",
   "execution_count": 62,
   "metadata": {},
   "outputs": [],
   "source": [
    "from pydantic import BaseModel, Field\n",
    "from typing import List\n",
    "\n",
    "class CalculationAnswer_2(BaseModel):\n",
    "    answer: float = Field(description=\"The final answer to the calculation\")"
   ]
  },
  {
   "cell_type": "code",
   "execution_count": 63,
   "metadata": {},
   "outputs": [],
   "source": [
    "chain = prompt | model.with_structured_output(CalculationAnswer_2)\n",
    "\n",
    "response = chain.invoke({\"question\": \"What is 5 multiplied by 5 diveded by 0.3 and the result raised by 2 then is rounded to 2 decimal places?\"})"
   ]
  },
  {
   "cell_type": "code",
   "execution_count": 64,
   "metadata": {},
   "outputs": [
    {
     "data": {
      "text/plain": [
       "CalculationAnswer_2(answer=6944.44)"
      ]
     },
     "execution_count": 64,
     "metadata": {},
     "output_type": "execute_result"
    }
   ],
   "source": [
    "response"
   ]
  },
  {
   "cell_type": "code",
   "execution_count": 65,
   "metadata": {},
   "outputs": [
    {
     "data": {
      "text/plain": [
       "6944.44"
      ]
     },
     "execution_count": 65,
     "metadata": {},
     "output_type": "execute_result"
    }
   ],
   "source": [
    "response.answer"
   ]
  }
 ],
 "metadata": {
  "kernelspec": {
   "display_name": "venv",
   "language": "python",
   "name": "python3"
  },
  "language_info": {
   "codemirror_mode": {
    "name": "ipython",
    "version": 3
   },
   "file_extension": ".py",
   "mimetype": "text/x-python",
   "name": "python",
   "nbconvert_exporter": "python",
   "pygments_lexer": "ipython3",
   "version": "3.13.1"
  }
 },
 "nbformat": 4,
 "nbformat_minor": 2
}
